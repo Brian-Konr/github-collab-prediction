{
 "cells": [
  {
   "cell_type": "code",
   "execution_count": null,
   "metadata": {},
   "outputs": [],
   "source": [
    "import pandas as pd\n",
    "import numpy as np\n",
    "from collections import defaultdict\n",
    "import ast"
   ]
  },
  {
   "cell_type": "code",
   "execution_count": null,
   "metadata": {},
   "outputs": [],
   "source": [
    "users_df = pd.read_csv('./output/users.csv')\n",
    "repos_df = pd.read_csv('./output/repos.csv')"
   ]
  },
  {
   "cell_type": "code",
   "execution_count": null,
   "metadata": {},
   "outputs": [],
   "source": [
    "repo_occurrence_dict = defaultdict(int)\n",
    "for _, user in users_df.iterrows():\n",
    "    repos = ast.literal_eval(user['repos'])\n",
    "    for repo in repos:\n",
    "        repo_occurrence_dict[repo] += 1\n",
    "\n",
    "collaborated_repos = set([key for key, val in repo_occurrence_dict.items() if val > 1])"
   ]
  },
  {
   "cell_type": "code",
   "execution_count": null,
   "metadata": {},
   "outputs": [],
   "source": [
    "offset = 7201\n",
    "limit = 1000\n",
    "\n",
    "users_df_slice = users_df.iloc[offset : offset + limit]\n",
    "users_df_slice"
   ]
  },
  {
   "cell_type": "code",
   "execution_count": null,
   "metadata": {},
   "outputs": [],
   "source": [
    "fetched_commits_data = []\n",
    "\n",
    "for index, user in users_df_slice.iterrows():\n",
    "    try:\n",
    "        print(f\"Searching user #{index + 1}: {user['login']}\")\n",
    "        repos = [repo for repo in ast.literal_eval(user['repos']) if repo in collaborated_repos]\n",
    "    except Exception as e:\n",
    "        print(e)\n",
    "\n",
    "    for index, repo in enumerate(repos):\n",
    "        print(f\"Searching repo {index + 1} of {len(repos)}: {repo}\")\n",
    "        try:\n",
    "            while g.rate_limiting[0] < 50:\n",
    "                print(\"rate limit almost approached, staling...\")\n",
    "                sleep(10)\n",
    "                g.get_rate_limit()\n",
    "            \n",
    "            # repo_obj = g.get_repo(repo)\n",
    "            # print(repo_obj.get_commits(author=user[\"login\"]).raw_data)\n",
    "            cur_commit_objs = g.get_repo(repo).get_commits(author=user[\"login\"])\n",
    "            \n",
    "            cur_commit_objs[0]\n",
    "            \n",
    "            # print(cur_commit_objs.totalCount)\n",
    "            cur_commit_data = []\n",
    "\n",
    "            if (cur_commit_objs.totalCount < 100000):\n",
    "                for commit_obj in cur_commit_objs:\n",
    "                    date = commit_obj.commit.author.date.isoformat()\n",
    "                    cur_commit_data.append(date)\n",
    "                    print(cur_commit_objs.totalCount, date, end=\"\\r\")\n",
    "            else:\n",
    "                print('Too much commits, fetching by months')\n",
    "                cur_start = cur_commit_objs[0].commit.author.date\n",
    "                cur_end = cur_commit_objs.reversed[0].commit.author.date\n",
    "                pr = pd.period_range(start=\"2013-05\", end=f\"2023-05\", freq=\"M\")\n",
    "                print(cur_start, cur_end, pr)\n",
    "                for p in pr:\n",
    "                    try:\n",
    "                        cur_period_commit_objs = g.get_repo(repo).get_commits(author=user[\"login\"], since=p.start_time.to_pydatetime(), until=p.end_time.to_pydatetime())\n",
    "                        cur_commit_objs[0]\n",
    "                        if cur_period_commit_objs.totalCount > 0:\n",
    "                            cur_commit_data.append(cur_period_commit_objs[0].commit.author.date.isoformat())\n",
    "                        print(p, cur_period_commit_objs.totalCount, end=\"\\r\")\n",
    "                    except:\n",
    "                        pass\n",
    "\n",
    "\n",
    "            fetched_commits_data.append({\n",
    "                \"user\": user['login'],\n",
    "                \"repo\": repo,\n",
    "                \"commits\": cur_commit_data\n",
    "            })\n",
    "        except Exception as e:\n",
    "            print(e)\n"
   ]
  },
  {
   "cell_type": "code",
   "execution_count": null,
   "metadata": {},
   "outputs": [],
   "source": [
    "page_index = 7\n",
    "pd.DataFrame.from_records(fetched_commits_data).to_csv(f'./output/commits-{page_index}.csv')"
   ]
  }
 ],
 "metadata": {
  "language_info": {
   "name": "python"
  },
  "orig_nbformat": 4
 },
 "nbformat": 4,
 "nbformat_minor": 2
}
