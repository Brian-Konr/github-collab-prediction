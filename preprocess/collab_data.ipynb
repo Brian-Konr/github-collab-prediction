{
 "cells": [
  {
   "attachments": {},
   "cell_type": "markdown",
   "metadata": {},
   "source": [
    "# Preparing data for collaboration network\n",
    "Here we only consider users v1 for size reasons.  \n",
    "In this notebook, we try to create multiple collaboration graphs separated by time. The time is separated by month by looking up their commit overlapping time."
   ]
  },
  {
   "cell_type": "code",
   "execution_count": null,
   "metadata": {},
   "outputs": [],
   "source": []
  }
 ],
 "metadata": {
  "language_info": {
   "name": "python"
  },
  "orig_nbformat": 4
 },
 "nbformat": 4,
 "nbformat_minor": 2
}
