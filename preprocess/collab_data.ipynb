{
 "cells": [
  {
   "attachments": {},
   "cell_type": "markdown",
   "metadata": {},
   "source": [
    "# Preparing data for collaboration network\n",
    "Here we consider users v2.  \n",
    "In this notebook, we try to create multiple collaboration graphs separated by time. The time is separated by month by looking up their commit overlapping time."
   ]
  },
  {
   "attachments": {},
   "cell_type": "markdown",
   "metadata": {},
   "source": [
    "# Only consider users v2 that have commits"
   ]
  },
  {
   "cell_type": "code",
   "execution_count": 1,
   "metadata": {},
   "outputs": [],
   "source": [
    "import pandas as pd"
   ]
  },
  {
   "cell_type": "code",
   "execution_count": 22,
   "metadata": {},
   "outputs": [
    {
     "data": {
      "text/html": [
       "<div>\n",
       "<style scoped>\n",
       "    .dataframe tbody tr th:only-of-type {\n",
       "        vertical-align: middle;\n",
       "    }\n",
       "\n",
       "    .dataframe tbody tr th {\n",
       "        vertical-align: top;\n",
       "    }\n",
       "\n",
       "    .dataframe thead th {\n",
       "        text-align: right;\n",
       "    }\n",
       "</style>\n",
       "<table border=\"1\" class=\"dataframe\">\n",
       "  <thead>\n",
       "    <tr style=\"text-align: right;\">\n",
       "      <th></th>\n",
       "      <th>Unnamed: 0</th>\n",
       "      <th>id</th>\n",
       "      <th>login</th>\n",
       "      <th>username</th>\n",
       "      <th>company</th>\n",
       "      <th>bio</th>\n",
       "      <th>location</th>\n",
       "      <th>email</th>\n",
       "      <th>followers</th>\n",
       "      <th>following</th>\n",
       "      <th>repos</th>\n",
       "      <th>starred_repos</th>\n",
       "    </tr>\n",
       "  </thead>\n",
       "  <tbody>\n",
       "    <tr>\n",
       "      <th>0</th>\n",
       "      <td>0</td>\n",
       "      <td>MDQ6VXNlcjgxMDQzOA==</td>\n",
       "      <td>gaearon</td>\n",
       "      <td>dan</td>\n",
       "      <td>@facebook</td>\n",
       "      <td>NaN</td>\n",
       "      <td>NaN</td>\n",
       "      <td>dan.abramov@gmail.com</td>\n",
       "      <td>['jayden-n', 'arguetaj26', 'kirillklimovets', ...</td>\n",
       "      <td>['kbuzzard', 'sebmarkbage', 'rauchg', 'lukewes...</td>\n",
       "      <td>['facebook/react', 'facebook/react-native', 'r...</td>\n",
       "      <td>[{'name': 'rauchg/how-is-this-not-illegal', 's...</td>\n",
       "    </tr>\n",
       "    <tr>\n",
       "      <th>1</th>\n",
       "      <td>1</td>\n",
       "      <td>MDQ6VXNlcjg1NDc1Mzg=</td>\n",
       "      <td>buckyroberts</td>\n",
       "      <td>Bucky Roberts</td>\n",
       "      <td>thenewboston</td>\n",
       "      <td>linkedin.com/in/buckyroberts</td>\n",
       "      <td>New York, NY</td>\n",
       "      <td>NaN</td>\n",
       "      <td>['kimjoonja', 'mayilairajesh', 'ckehelly', 'pa...</td>\n",
       "      <td>['MaxLuxon', 'nidhi99verma', 'yashtazor', 'Sud...</td>\n",
       "      <td>['thenewboston-developers/Website', 'thenewbos...</td>\n",
       "      <td>[{'name': 'thenewboston-developers/tnbOS', 'st...</td>\n",
       "    </tr>\n",
       "    <tr>\n",
       "      <th>2</th>\n",
       "      <td>2</td>\n",
       "      <td>MDQ6VXNlcjIyODEwODg=</td>\n",
       "      <td>sdras</td>\n",
       "      <td>Sarah Drasner</td>\n",
       "      <td>Netlify</td>\n",
       "      <td>comprehension over configuration</td>\n",
       "      <td>All over the place</td>\n",
       "      <td>sarah.drasner@gmail.com</td>\n",
       "      <td>['spandalai26', 'wangliuyi09', 'RakibulHSium',...</td>\n",
       "      <td>['segunadebayo', 'concavelenz', 'robb0wen', 'n...</td>\n",
       "      <td>[]</td>\n",
       "      <td>[{'name': 'danielroe/nuxt-zero-js', 'starred_a...</td>\n",
       "    </tr>\n",
       "    <tr>\n",
       "      <th>3</th>\n",
       "      <td>3</td>\n",
       "      <td>MDQ6VXNlcjU1NTA4NTA=</td>\n",
       "      <td>bradtraversy</td>\n",
       "      <td>Brad Traversy</td>\n",
       "      <td>Traversy Media</td>\n",
       "      <td>Full stack web developer and online instructor...</td>\n",
       "      <td>Massachusetts</td>\n",
       "      <td>traversymedia@gmail.com</td>\n",
       "      <td>['wanwei9025', 'wangliuyi09', 'premsagar2000',...</td>\n",
       "      <td>['Alaev', 'toddmotto', 'taylorotwell', 'getify...</td>\n",
       "      <td>[]</td>\n",
       "      <td>[{'name': 'bushblade/TraversyMediaScrollActive...</td>\n",
       "    </tr>\n",
       "    <tr>\n",
       "      <th>4</th>\n",
       "      <td>4</td>\n",
       "      <td>MDQ6VXNlcjUwMDM5MDM=</td>\n",
       "      <td>StephenGrider</td>\n",
       "      <td>Stephen Grider</td>\n",
       "      <td>NaN</td>\n",
       "      <td>NaN</td>\n",
       "      <td>NaN</td>\n",
       "      <td>NaN</td>\n",
       "      <td>['rafaelnacle', 'alululululuer', 'soleira', 'j...</td>\n",
       "      <td>['dthms', 'JosephSmith127', 'bibanul', 'pieter...</td>\n",
       "      <td>[]</td>\n",
       "      <td>[{'name': 'redis/node-redis', 'starred_at': '2...</td>\n",
       "    </tr>\n",
       "  </tbody>\n",
       "</table>\n",
       "</div>"
      ],
      "text/plain": [
       "   Unnamed: 0                    id          login        username   \n",
       "0           0  MDQ6VXNlcjgxMDQzOA==        gaearon             dan  \\\n",
       "1           1  MDQ6VXNlcjg1NDc1Mzg=   buckyroberts   Bucky Roberts   \n",
       "2           2  MDQ6VXNlcjIyODEwODg=          sdras   Sarah Drasner   \n",
       "3           3  MDQ6VXNlcjU1NTA4NTA=   bradtraversy   Brad Traversy   \n",
       "4           4  MDQ6VXNlcjUwMDM5MDM=  StephenGrider  Stephen Grider   \n",
       "\n",
       "          company                                                bio   \n",
       "0      @facebook                                                 NaN  \\\n",
       "1    thenewboston                       linkedin.com/in/buckyroberts   \n",
       "2         Netlify                   comprehension over configuration   \n",
       "3  Traversy Media  Full stack web developer and online instructor...   \n",
       "4             NaN                                                NaN   \n",
       "\n",
       "             location                    email   \n",
       "0                 NaN    dan.abramov@gmail.com  \\\n",
       "1        New York, NY                      NaN   \n",
       "2  All over the place  sarah.drasner@gmail.com   \n",
       "3       Massachusetts  traversymedia@gmail.com   \n",
       "4                 NaN                      NaN   \n",
       "\n",
       "                                           followers   \n",
       "0  ['jayden-n', 'arguetaj26', 'kirillklimovets', ...  \\\n",
       "1  ['kimjoonja', 'mayilairajesh', 'ckehelly', 'pa...   \n",
       "2  ['spandalai26', 'wangliuyi09', 'RakibulHSium',...   \n",
       "3  ['wanwei9025', 'wangliuyi09', 'premsagar2000',...   \n",
       "4  ['rafaelnacle', 'alululululuer', 'soleira', 'j...   \n",
       "\n",
       "                                           following   \n",
       "0  ['kbuzzard', 'sebmarkbage', 'rauchg', 'lukewes...  \\\n",
       "1  ['MaxLuxon', 'nidhi99verma', 'yashtazor', 'Sud...   \n",
       "2  ['segunadebayo', 'concavelenz', 'robb0wen', 'n...   \n",
       "3  ['Alaev', 'toddmotto', 'taylorotwell', 'getify...   \n",
       "4  ['dthms', 'JosephSmith127', 'bibanul', 'pieter...   \n",
       "\n",
       "                                               repos   \n",
       "0  ['facebook/react', 'facebook/react-native', 'r...  \\\n",
       "1  ['thenewboston-developers/Website', 'thenewbos...   \n",
       "2                                                 []   \n",
       "3                                                 []   \n",
       "4                                                 []   \n",
       "\n",
       "                                       starred_repos  \n",
       "0  [{'name': 'rauchg/how-is-this-not-illegal', 's...  \n",
       "1  [{'name': 'thenewboston-developers/tnbOS', 'st...  \n",
       "2  [{'name': 'danielroe/nuxt-zero-js', 'starred_a...  \n",
       "3  [{'name': 'bushblade/TraversyMediaScrollActive...  \n",
       "4  [{'name': 'redis/node-redis', 'starred_at': '2...  "
      ]
     },
     "metadata": {},
     "output_type": "display_data"
    },
    {
     "name": "stdout",
     "output_type": "stream",
     "text": [
      "(34678, 12)\n"
     ]
    }
   ],
   "source": [
    "users_df = pd.read_csv('../dataset/v2/users.csv')\n",
    "display(users_df.head())\n",
    "print(users_df.shape)"
   ]
  },
  {
   "cell_type": "code",
   "execution_count": 23,
   "metadata": {},
   "outputs": [
    {
     "data": {
      "text/html": [
       "<div>\n",
       "<style scoped>\n",
       "    .dataframe tbody tr th:only-of-type {\n",
       "        vertical-align: middle;\n",
       "    }\n",
       "\n",
       "    .dataframe tbody tr th {\n",
       "        vertical-align: top;\n",
       "    }\n",
       "\n",
       "    .dataframe thead th {\n",
       "        text-align: right;\n",
       "    }\n",
       "</style>\n",
       "<table border=\"1\" class=\"dataframe\">\n",
       "  <thead>\n",
       "    <tr style=\"text-align: right;\">\n",
       "      <th></th>\n",
       "      <th>Unnamed: 0</th>\n",
       "      <th>user</th>\n",
       "      <th>repo</th>\n",
       "      <th>commits</th>\n",
       "    </tr>\n",
       "  </thead>\n",
       "  <tbody>\n",
       "    <tr>\n",
       "      <th>0</th>\n",
       "      <td>0</td>\n",
       "      <td>gaearon</td>\n",
       "      <td>facebook/react</td>\n",
       "      <td>['2023-03-30T21:05:03', '2023-03-25T00:05:23',...</td>\n",
       "    </tr>\n",
       "    <tr>\n",
       "      <th>1</th>\n",
       "      <td>1</td>\n",
       "      <td>gaearon</td>\n",
       "      <td>facebook/react-native</td>\n",
       "      <td>['2020-07-10T20:24:20', '2020-03-26T20:59:39',...</td>\n",
       "    </tr>\n",
       "    <tr>\n",
       "      <th>2</th>\n",
       "      <td>2</td>\n",
       "      <td>gaearon</td>\n",
       "      <td>reactjs/react.dev</td>\n",
       "      <td>['2023-05-03T22:07:50', '2023-05-03T21:18:00',...</td>\n",
       "    </tr>\n",
       "    <tr>\n",
       "      <th>3</th>\n",
       "      <td>3</td>\n",
       "      <td>gaearon</td>\n",
       "      <td>reactjs/rfcs</td>\n",
       "      <td>['2022-03-28T18:13:52', '2022-03-28T18:11:33',...</td>\n",
       "    </tr>\n",
       "    <tr>\n",
       "      <th>4</th>\n",
       "      <td>4</td>\n",
       "      <td>gaearon</td>\n",
       "      <td>codesandbox/sandpack</td>\n",
       "      <td>['2023-04-09T22:06:53', '2022-05-25T09:13:12',...</td>\n",
       "    </tr>\n",
       "  </tbody>\n",
       "</table>\n",
       "</div>"
      ],
      "text/plain": [
       "   Unnamed: 0     user                   repo   \n",
       "0           0  gaearon         facebook/react  \\\n",
       "1           1  gaearon  facebook/react-native   \n",
       "2           2  gaearon      reactjs/react.dev   \n",
       "3           3  gaearon           reactjs/rfcs   \n",
       "4           4  gaearon   codesandbox/sandpack   \n",
       "\n",
       "                                             commits  \n",
       "0  ['2023-03-30T21:05:03', '2023-03-25T00:05:23',...  \n",
       "1  ['2020-07-10T20:24:20', '2020-03-26T20:59:39',...  \n",
       "2  ['2023-05-03T22:07:50', '2023-05-03T21:18:00',...  \n",
       "3  ['2022-03-28T18:13:52', '2022-03-28T18:11:33',...  \n",
       "4  ['2023-04-09T22:06:53', '2022-05-25T09:13:12',...  "
      ]
     },
     "metadata": {},
     "output_type": "display_data"
    },
    {
     "name": "stdout",
     "output_type": "stream",
     "text": [
      "(36411, 4)\n"
     ]
    }
   ],
   "source": [
    "commits = pd.read_csv('../dataset/data/commits.csv')\n",
    "display(commits.head())\n",
    "print(commits.shape)"
   ]
  },
  {
   "cell_type": "code",
   "execution_count": 25,
   "metadata": {},
   "outputs": [
    {
     "name": "stdout",
     "output_type": "stream",
     "text": [
      "unique users in users v2: 34678\n",
      "unique users in commits: 5393\n",
      "count of users not in commits: 29285\n"
     ]
    }
   ],
   "source": [
    "users = users_df['login'].unique()\n",
    "print(f\"unique users in users v2: {len(users)}\")\n",
    "commit_users = commits['user'].unique()\n",
    "print(f\"unique users in commits: {len(commit_users)}\")\n",
    "    \n",
    "# try see if all users have commits\n",
    "count = 0\n",
    "for user in users:\n",
    "    if user not in commit_users:\n",
    "        count += 1\n",
    "print(f\"count of users not in commits: {count}\")"
   ]
  },
  {
   "attachments": {},
   "cell_type": "markdown",
   "metadata": {},
   "source": [
    "## Reduce users size by considering only users that have commits"
   ]
  },
  {
   "cell_type": "code",
   "execution_count": 26,
   "metadata": {},
   "outputs": [
    {
     "name": "stdout",
     "output_type": "stream",
     "text": [
      "(5393, 12)\n"
     ]
    }
   ],
   "source": [
    "reduced_users_df = users_df[users_df['login'].isin(commit_users)]\n",
    "print(reduced_users_df.shape)"
   ]
  },
  {
   "cell_type": "code",
   "execution_count": 27,
   "metadata": {},
   "outputs": [],
   "source": [
    "# save to csv\n",
    "reduced_users_df.to_csv('../dataset/postprocess-data/reduced_users.csv', index=False)"
   ]
  },
  {
   "attachments": {},
   "cell_type": "markdown",
   "metadata": {},
   "source": [
    "## Construct collaboration graph by month"
   ]
  },
  {
   "attachments": {},
   "cell_type": "markdown",
   "metadata": {},
   "source": [
    "### Create a Repo_Month_User dictionary"
   ]
  },
  {
   "cell_type": "code",
   "execution_count": 28,
   "metadata": {},
   "outputs": [
    {
     "data": {
      "text/html": [
       "<div>\n",
       "<style scoped>\n",
       "    .dataframe tbody tr th:only-of-type {\n",
       "        vertical-align: middle;\n",
       "    }\n",
       "\n",
       "    .dataframe tbody tr th {\n",
       "        vertical-align: top;\n",
       "    }\n",
       "\n",
       "    .dataframe thead th {\n",
       "        text-align: right;\n",
       "    }\n",
       "</style>\n",
       "<table border=\"1\" class=\"dataframe\">\n",
       "  <thead>\n",
       "    <tr style=\"text-align: right;\">\n",
       "      <th></th>\n",
       "      <th>Unnamed: 0</th>\n",
       "      <th>id</th>\n",
       "      <th>login</th>\n",
       "      <th>username</th>\n",
       "      <th>company</th>\n",
       "      <th>bio</th>\n",
       "      <th>location</th>\n",
       "      <th>email</th>\n",
       "      <th>followers</th>\n",
       "      <th>following</th>\n",
       "      <th>repos</th>\n",
       "      <th>starred_repos</th>\n",
       "    </tr>\n",
       "  </thead>\n",
       "  <tbody>\n",
       "    <tr>\n",
       "      <th>0</th>\n",
       "      <td>0</td>\n",
       "      <td>MDQ6VXNlcjgxMDQzOA==</td>\n",
       "      <td>gaearon</td>\n",
       "      <td>dan</td>\n",
       "      <td>@facebook</td>\n",
       "      <td>NaN</td>\n",
       "      <td>NaN</td>\n",
       "      <td>dan.abramov@gmail.com</td>\n",
       "      <td>['jayden-n', 'arguetaj26', 'kirillklimovets', ...</td>\n",
       "      <td>['kbuzzard', 'sebmarkbage', 'rauchg', 'lukewes...</td>\n",
       "      <td>['facebook/react', 'facebook/react-native', 'r...</td>\n",
       "      <td>[{'name': 'rauchg/how-is-this-not-illegal', 's...</td>\n",
       "    </tr>\n",
       "    <tr>\n",
       "      <th>1</th>\n",
       "      <td>1</td>\n",
       "      <td>MDQ6VXNlcjg1NDc1Mzg=</td>\n",
       "      <td>buckyroberts</td>\n",
       "      <td>Bucky Roberts</td>\n",
       "      <td>thenewboston</td>\n",
       "      <td>linkedin.com/in/buckyroberts</td>\n",
       "      <td>New York, NY</td>\n",
       "      <td>NaN</td>\n",
       "      <td>['kimjoonja', 'mayilairajesh', 'ckehelly', 'pa...</td>\n",
       "      <td>['MaxLuxon', 'nidhi99verma', 'yashtazor', 'Sud...</td>\n",
       "      <td>['thenewboston-developers/Website', 'thenewbos...</td>\n",
       "      <td>[{'name': 'thenewboston-developers/tnbOS', 'st...</td>\n",
       "    </tr>\n",
       "    <tr>\n",
       "      <th>2</th>\n",
       "      <td>5</td>\n",
       "      <td>MDQ6VXNlcjM5NzE3MDk5</td>\n",
       "      <td>WebDevSimplified</td>\n",
       "      <td>NaN</td>\n",
       "      <td>WebDevSimplified</td>\n",
       "      <td>NaN</td>\n",
       "      <td>Nebraska</td>\n",
       "      <td>kyle@webdevsimplified.com</td>\n",
       "      <td>['th3mon', 'kencargill', 'Paarsah', 'Leandrome...</td>\n",
       "      <td>[]</td>\n",
       "      <td>['colinhacks/zod']</td>\n",
       "      <td>[]</td>\n",
       "    </tr>\n",
       "    <tr>\n",
       "      <th>3</th>\n",
       "      <td>7</td>\n",
       "      <td>MDQ6VXNlcjI0MTEzOA==</td>\n",
       "      <td>karpathy</td>\n",
       "      <td>Andrej</td>\n",
       "      <td>NaN</td>\n",
       "      <td>I like to train Deep Neural Nets on large data...</td>\n",
       "      <td>Stanford</td>\n",
       "      <td>andrej.karpathy@gmail.com</td>\n",
       "      <td>['tvldz', 'duck-bongos', 'jecky100000', 'vvust...</td>\n",
       "      <td>['ErikBjare', 'ahojnnes', 'petewarden', 'mniel...</td>\n",
       "      <td>['huggingface/transformers']</td>\n",
       "      <td>[{'name': 'LAION-AI/Open-Assistant', 'starred_...</td>\n",
       "    </tr>\n",
       "    <tr>\n",
       "      <th>4</th>\n",
       "      <td>8</td>\n",
       "      <td>MDQ6VXNlcjIyNTQ3MzE=</td>\n",
       "      <td>diego3g</td>\n",
       "      <td>Diego Fernandes</td>\n",
       "      <td>@Rocketseat</td>\n",
       "      <td>CTO at @Rocketseat. Passionate about education...</td>\n",
       "      <td>Brasil</td>\n",
       "      <td>diego.schell.f@gmail.com</td>\n",
       "      <td>['mutheusalmeida', 'rehfeld13', 'andressaviana...</td>\n",
       "      <td>['mpedroni', 'RennanD', 'murilosf1', 'jaksonxa...</td>\n",
       "      <td>['maykbrito/mini-video-me', 'Rocketseat/eslint...</td>\n",
       "      <td>[{'name': 'partykit/partykit', 'starred_at': '...</td>\n",
       "    </tr>\n",
       "  </tbody>\n",
       "</table>\n",
       "</div>"
      ],
      "text/plain": [
       "   Unnamed: 0                    id             login         username   \n",
       "0           0  MDQ6VXNlcjgxMDQzOA==           gaearon              dan  \\\n",
       "1           1  MDQ6VXNlcjg1NDc1Mzg=      buckyroberts    Bucky Roberts   \n",
       "2           5  MDQ6VXNlcjM5NzE3MDk5  WebDevSimplified              NaN   \n",
       "3           7  MDQ6VXNlcjI0MTEzOA==          karpathy           Andrej   \n",
       "4           8  MDQ6VXNlcjIyNTQ3MzE=           diego3g  Diego Fernandes   \n",
       "\n",
       "            company                                                bio   \n",
       "0        @facebook                                                 NaN  \\\n",
       "1      thenewboston                       linkedin.com/in/buckyroberts   \n",
       "2  WebDevSimplified                                                NaN   \n",
       "3               NaN  I like to train Deep Neural Nets on large data...   \n",
       "4      @Rocketseat   CTO at @Rocketseat. Passionate about education...   \n",
       "\n",
       "       location                      email   \n",
       "0           NaN      dan.abramov@gmail.com  \\\n",
       "1  New York, NY                        NaN   \n",
       "2      Nebraska  kyle@webdevsimplified.com   \n",
       "3      Stanford  andrej.karpathy@gmail.com   \n",
       "4        Brasil   diego.schell.f@gmail.com   \n",
       "\n",
       "                                           followers   \n",
       "0  ['jayden-n', 'arguetaj26', 'kirillklimovets', ...  \\\n",
       "1  ['kimjoonja', 'mayilairajesh', 'ckehelly', 'pa...   \n",
       "2  ['th3mon', 'kencargill', 'Paarsah', 'Leandrome...   \n",
       "3  ['tvldz', 'duck-bongos', 'jecky100000', 'vvust...   \n",
       "4  ['mutheusalmeida', 'rehfeld13', 'andressaviana...   \n",
       "\n",
       "                                           following   \n",
       "0  ['kbuzzard', 'sebmarkbage', 'rauchg', 'lukewes...  \\\n",
       "1  ['MaxLuxon', 'nidhi99verma', 'yashtazor', 'Sud...   \n",
       "2                                                 []   \n",
       "3  ['ErikBjare', 'ahojnnes', 'petewarden', 'mniel...   \n",
       "4  ['mpedroni', 'RennanD', 'murilosf1', 'jaksonxa...   \n",
       "\n",
       "                                               repos   \n",
       "0  ['facebook/react', 'facebook/react-native', 'r...  \\\n",
       "1  ['thenewboston-developers/Website', 'thenewbos...   \n",
       "2                                 ['colinhacks/zod']   \n",
       "3                       ['huggingface/transformers']   \n",
       "4  ['maykbrito/mini-video-me', 'Rocketseat/eslint...   \n",
       "\n",
       "                                       starred_repos  \n",
       "0  [{'name': 'rauchg/how-is-this-not-illegal', 's...  \n",
       "1  [{'name': 'thenewboston-developers/tnbOS', 'st...  \n",
       "2                                                 []  \n",
       "3  [{'name': 'LAION-AI/Open-Assistant', 'starred_...  \n",
       "4  [{'name': 'partykit/partykit', 'starred_at': '...  "
      ]
     },
     "metadata": {},
     "output_type": "display_data"
    },
    {
     "name": "stdout",
     "output_type": "stream",
     "text": [
      "(5393, 12)\n"
     ]
    }
   ],
   "source": [
    "# load reduced users\n",
    "reduced_users_df = pd.read_csv('../dataset/postprocess-data/reduced_users.csv')\n",
    "display(reduced_users_df.head())\n",
    "print(reduced_users_df.shape)"
   ]
  },
  {
   "cell_type": "code",
   "execution_count": 29,
   "metadata": {},
   "outputs": [
    {
     "data": {
      "text/html": [
       "<div>\n",
       "<style scoped>\n",
       "    .dataframe tbody tr th:only-of-type {\n",
       "        vertical-align: middle;\n",
       "    }\n",
       "\n",
       "    .dataframe tbody tr th {\n",
       "        vertical-align: top;\n",
       "    }\n",
       "\n",
       "    .dataframe thead th {\n",
       "        text-align: right;\n",
       "    }\n",
       "</style>\n",
       "<table border=\"1\" class=\"dataframe\">\n",
       "  <thead>\n",
       "    <tr style=\"text-align: right;\">\n",
       "      <th></th>\n",
       "      <th>Unnamed: 0</th>\n",
       "      <th>user</th>\n",
       "      <th>repo</th>\n",
       "      <th>commits</th>\n",
       "    </tr>\n",
       "  </thead>\n",
       "  <tbody>\n",
       "    <tr>\n",
       "      <th>0</th>\n",
       "      <td>0</td>\n",
       "      <td>gaearon</td>\n",
       "      <td>facebook/react</td>\n",
       "      <td>['2023-03-30T21:05:03', '2023-03-25T00:05:23',...</td>\n",
       "    </tr>\n",
       "    <tr>\n",
       "      <th>1</th>\n",
       "      <td>1</td>\n",
       "      <td>gaearon</td>\n",
       "      <td>facebook/react-native</td>\n",
       "      <td>['2020-07-10T20:24:20', '2020-03-26T20:59:39',...</td>\n",
       "    </tr>\n",
       "    <tr>\n",
       "      <th>2</th>\n",
       "      <td>2</td>\n",
       "      <td>gaearon</td>\n",
       "      <td>reactjs/react.dev</td>\n",
       "      <td>['2023-05-03T22:07:50', '2023-05-03T21:18:00',...</td>\n",
       "    </tr>\n",
       "    <tr>\n",
       "      <th>3</th>\n",
       "      <td>3</td>\n",
       "      <td>gaearon</td>\n",
       "      <td>reactjs/rfcs</td>\n",
       "      <td>['2022-03-28T18:13:52', '2022-03-28T18:11:33',...</td>\n",
       "    </tr>\n",
       "    <tr>\n",
       "      <th>4</th>\n",
       "      <td>4</td>\n",
       "      <td>gaearon</td>\n",
       "      <td>codesandbox/sandpack</td>\n",
       "      <td>['2023-04-09T22:06:53', '2022-05-25T09:13:12',...</td>\n",
       "    </tr>\n",
       "  </tbody>\n",
       "</table>\n",
       "</div>"
      ],
      "text/plain": [
       "   Unnamed: 0     user                   repo   \n",
       "0           0  gaearon         facebook/react  \\\n",
       "1           1  gaearon  facebook/react-native   \n",
       "2           2  gaearon      reactjs/react.dev   \n",
       "3           3  gaearon           reactjs/rfcs   \n",
       "4           4  gaearon   codesandbox/sandpack   \n",
       "\n",
       "                                             commits  \n",
       "0  ['2023-03-30T21:05:03', '2023-03-25T00:05:23',...  \n",
       "1  ['2020-07-10T20:24:20', '2020-03-26T20:59:39',...  \n",
       "2  ['2023-05-03T22:07:50', '2023-05-03T21:18:00',...  \n",
       "3  ['2022-03-28T18:13:52', '2022-03-28T18:11:33',...  \n",
       "4  ['2023-04-09T22:06:53', '2022-05-25T09:13:12',...  "
      ]
     },
     "metadata": {},
     "output_type": "display_data"
    },
    {
     "name": "stdout",
     "output_type": "stream",
     "text": [
      "(36411, 4)\n"
     ]
    }
   ],
   "source": [
    "# load commits\n",
    "commits = pd.read_csv('../dataset/data/commits.csv')\n",
    "display(commits.head())\n",
    "print(commits.shape)"
   ]
  },
  {
   "cell_type": "code",
   "execution_count": 42,
   "metadata": {},
   "outputs": [],
   "source": [
    "import ast\n",
    "# Convert a string representation of list into list\n",
    "commits['commits_list'] = commits['commits'].apply(lambda x: ast.literal_eval(x))"
   ]
  },
  {
   "cell_type": "code",
   "execution_count": 51,
   "metadata": {},
   "outputs": [
    {
     "name": "stdout",
     "output_type": "stream",
     "text": [
      "   Unnamed: 0     user                   repo   \n",
      "0           0  gaearon         facebook/react  \\\n",
      "1           1  gaearon  facebook/react-native   \n",
      "2           2  gaearon      reactjs/react.dev   \n",
      "3           3  gaearon           reactjs/rfcs   \n",
      "4           4  gaearon   codesandbox/sandpack   \n",
      "\n",
      "                                             commits   \n",
      "0  ['2023-03-30T21:05:03', '2023-03-25T00:05:23',...  \\\n",
      "1  ['2020-07-10T20:24:20', '2020-03-26T20:59:39',...   \n",
      "2  ['2023-05-03T22:07:50', '2023-05-03T21:18:00',...   \n",
      "3  ['2022-03-28T18:13:52', '2022-03-28T18:11:33',...   \n",
      "4  ['2023-04-09T22:06:53', '2022-05-25T09:13:12',...   \n",
      "\n",
      "                                        commits_list  \n",
      "0  [2023-03-30T21:05:03, 2023-03-25T00:05:23, 202...  \n",
      "1  [2020-07-10T20:24:20, 2020-03-26T20:59:39, 202...  \n",
      "2  [2023-05-03T22:07:50, 2023-05-03T21:18:00, 202...  \n",
      "3  [2022-03-28T18:13:52, 2022-03-28T18:11:33, 202...  \n",
      "4  [2023-04-09T22:06:53, 2022-05-25T09:13:12, 202...  \n"
     ]
    }
   ],
   "source": [
    "print(commits.head())"
   ]
  },
  {
   "cell_type": "code",
   "execution_count": 69,
   "metadata": {},
   "outputs": [
    {
     "name": "stdout",
     "output_type": "stream",
     "text": [
      "['2013-03', '2013-04', '2013-05', '2013-06', '2013-07', '2013-08', '2013-09', '2013-10', '2013-11', '2013-12', '2014-01', '2014-02', '2014-03', '2014-04', '2014-05', '2014-06', '2014-07', '2014-08', '2014-09', '2014-10', '2014-11', '2014-12', '2015-01', '2015-02', '2015-03', '2015-04', '2015-05', '2015-06', '2015-07', '2015-08', '2015-09', '2015-10', '2015-11', '2015-12', '2016-01', '2016-02', '2016-03', '2016-04', '2016-05', '2016-06', '2016-07', '2016-08', '2016-09', '2016-10', '2016-11', '2016-12', '2017-01', '2017-02', '2017-03', '2017-04', '2017-05', '2017-06', '2017-07', '2017-08', '2017-09', '2017-10', '2017-11', '2017-12', '2018-01', '2018-02', '2018-03', '2018-04', '2018-05', '2018-06', '2018-07', '2018-08', '2018-09', '2018-10', '2018-11', '2018-12', '2019-01', '2019-02', '2019-03', '2019-04', '2019-05', '2019-06', '2019-07', '2019-08', '2019-09', '2019-10', '2019-11', '2019-12', '2020-01', '2020-02', '2020-03', '2020-04', '2020-05', '2020-06', '2020-07', '2020-08', '2020-09', '2020-10', '2020-11', '2020-12', '2021-01', '2021-02', '2021-03', '2021-04', '2021-05', '2021-06', '2021-07', '2021-08', '2021-09', '2021-10', '2021-11', '2021-12', '2022-01', '2022-02', '2022-03', '2022-04', '2022-05', '2022-06', '2022-07', '2022-08', '2022-09', '2022-10', '2022-11', '2022-12', '2023-01', '2023-02', '2023-03', '2023-04', '2023-05']\n",
      "123\n"
     ]
    }
   ],
   "source": [
    "# use pd.date_range to create a range of dates starting from 2013-05 to 2023-04, with a frequency of 1 month\n",
    "date_range = pd.date_range(start='2013-03', end='2023-06', freq='M')\n",
    "# convert the date_range into a list\n",
    "date_range = date_range.tolist()\n",
    "# convert the list of dates into a list of strings\n",
    "date_range = [str(date) for date in date_range]\n",
    "# only use first 10 characters of the date string as the month indicator\n",
    "date_range = [date[:7] for date in date_range]\n",
    "print(date_range)\n",
    "print(len(date_range))"
   ]
  },
  {
   "cell_type": "code",
   "execution_count": 73,
   "metadata": {},
   "outputs": [],
   "source": [
    "repo_month_users = {}\n",
    "for repo in commits['repo'].unique():\n",
    "    repo_month_users[repo] = {}\n",
    "    for date in date_range:\n",
    "        repo_month_users[repo][date] = set()\n",
    "\n",
    "# iterate through each row of the commits dataframe and append the user to the corresponding repo and month\n",
    "for index, row in commits.iterrows():\n",
    "    repo = row['repo']\n",
    "    user = row['user']\n",
    "    commits_date_list = row['commits_list']\n",
    "    for commit_date in commits_date_list:\n",
    "        date = commit_date[:7]\n",
    "        if date in date_range:\n",
    "            repo_month_users[repo][date].add(user)\n",
    "        "
   ]
  },
  {
   "cell_type": "code",
   "execution_count": 76,
   "metadata": {},
   "outputs": [
    {
     "name": "stdout",
     "output_type": "stream",
     "text": [
      "{'sebmarkbage', 'kassens', 'gaearon', 'sammy-SC', 'tyao1', 'markerikson', 'josephsavona', 'sophiebits', 'Jarred-Sumner', 'poteto', 'rickhanlonii', 'eps1lon', 'acdlite'}\n",
      "{'mdvacca', 'chiaramooney', 'JoshuaGross', 'hramos', 'tido64', 'yungsters', 'neildhar', 'EvanBacon', 'SamChou19815', 'sammy-SC', 'NickGerleman', 'cortinico', 'kelset', 'Kudo', 'janicduplessis', 'huntie', 'javache', 'tyao1', 'thymikee', 'RSNara'}\n"
     ]
    }
   ],
   "source": [
    "# check some of the values\n",
    "print(repo_month_users['facebook/react']['2023-03'])\n",
    "print(repo_month_users['facebook/react-native']['2022-08'])"
   ]
  },
  {
   "cell_type": "code",
   "execution_count": 77,
   "metadata": {},
   "outputs": [],
   "source": [
    "# save this dict to pickle\n",
    "import pickle\n",
    "with open('../dataset/postprocess-data/repo_month_users.pickle', 'wb') as handle:\n",
    "    pickle.dump(repo_month_users, handle, protocol=pickle.HIGHEST_PROTOCOL)\n"
   ]
  },
  {
   "attachments": {},
   "cell_type": "markdown",
   "metadata": {},
   "source": [
    "### Construct collaboration relationship based on Repo_Month_User dictionary"
   ]
  },
  {
   "cell_type": "code",
   "execution_count": null,
   "metadata": {},
   "outputs": [],
   "source": []
  }
 ],
 "metadata": {
  "kernelspec": {
   "display_name": "github-collab-prediction-venv",
   "language": "python",
   "name": "python3"
  },
  "language_info": {
   "codemirror_mode": {
    "name": "ipython",
    "version": 3
   },
   "file_extension": ".py",
   "mimetype": "text/x-python",
   "name": "python",
   "nbconvert_exporter": "python",
   "pygments_lexer": "ipython3",
   "version": "3.11.3"
  },
  "orig_nbformat": 4
 },
 "nbformat": 4,
 "nbformat_minor": 2
}
